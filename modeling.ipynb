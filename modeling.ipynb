{
 "cells": [
  {
   "cell_type": "code",
   "execution_count": 63,
   "metadata": {},
   "outputs": [],
   "source": [
    "import numpy as np\n",
    "import pandas as pd\n",
    "import matplotlib.pyplot as plt\n",
    "import seaborn as sns\n",
    "from sklearn.linear_model import LinearRegression\n",
    "from sklearn.model_selection import train_test_split, cross_val_score, GridSearchCV\n",
    "from sklearn.ensemble import HistGradientBoostingRegressor\n",
    "from sklearn.pipeline import Pipeline\n",
    "from sklearn.svm import SVR\n",
    "import joblib"
   ]
  },
  {
   "cell_type": "code",
   "execution_count": 4,
   "metadata": {},
   "outputs": [
    {
     "data": {
      "text/plain": [
       "(405068, 16)"
      ]
     },
     "execution_count": 4,
     "metadata": {},
     "output_type": "execute_result"
    }
   ],
   "source": [
    "df = pd.read_csv('sbd_post_sql.csv')\n",
    "df.shape"
   ]
  },
  {
   "cell_type": "code",
   "execution_count": 5,
   "metadata": {},
   "outputs": [
    {
     "data": {
      "text/html": [
       "<div>\n",
       "<style scoped>\n",
       "    .dataframe tbody tr th:only-of-type {\n",
       "        vertical-align: middle;\n",
       "    }\n",
       "\n",
       "    .dataframe tbody tr th {\n",
       "        vertical-align: top;\n",
       "    }\n",
       "\n",
       "    .dataframe thead th {\n",
       "        text-align: right;\n",
       "    }\n",
       "</style>\n",
       "<table border=\"1\" class=\"dataframe\">\n",
       "  <thead>\n",
       "    <tr style=\"text-align: right;\">\n",
       "      <th></th>\n",
       "      <th>Sex</th>\n",
       "      <th>BirthClass</th>\n",
       "      <th>BW</th>\n",
       "      <th>S1</th>\n",
       "      <th>S2</th>\n",
       "      <th>S3</th>\n",
       "      <th>Best3S</th>\n",
       "      <th>B1</th>\n",
       "      <th>B2</th>\n",
       "      <th>B3</th>\n",
       "      <th>Best3B</th>\n",
       "      <th>D1</th>\n",
       "      <th>D2</th>\n",
       "      <th>D3</th>\n",
       "      <th>Best3D</th>\n",
       "      <th>Total</th>\n",
       "    </tr>\n",
       "  </thead>\n",
       "  <tbody>\n",
       "    <tr>\n",
       "      <th>0</th>\n",
       "      <td>F</td>\n",
       "      <td>\\N</td>\n",
       "      <td>50.6</td>\n",
       "      <td>85</td>\n",
       "      <td>90</td>\n",
       "      <td>92.5</td>\n",
       "      <td>92.5</td>\n",
       "      <td>57.5</td>\n",
       "      <td>60</td>\n",
       "      <td>62.5</td>\n",
       "      <td>62.5</td>\n",
       "      <td>137.5</td>\n",
       "      <td>142.5</td>\n",
       "      <td>150</td>\n",
       "      <td>150</td>\n",
       "      <td>305</td>\n",
       "    </tr>\n",
       "    <tr>\n",
       "      <th>1</th>\n",
       "      <td>F</td>\n",
       "      <td>24-39</td>\n",
       "      <td>51</td>\n",
       "      <td>-90</td>\n",
       "      <td>-90</td>\n",
       "      <td>90</td>\n",
       "      <td>90</td>\n",
       "      <td>50</td>\n",
       "      <td>52.5</td>\n",
       "      <td>-55</td>\n",
       "      <td>52.5</td>\n",
       "      <td>100</td>\n",
       "      <td>107.5</td>\n",
       "      <td>112.5</td>\n",
       "      <td>112.5</td>\n",
       "      <td>255</td>\n",
       "    </tr>\n",
       "    <tr>\n",
       "      <th>2</th>\n",
       "      <td>F</td>\n",
       "      <td>50-59</td>\n",
       "      <td>51.2</td>\n",
       "      <td>115</td>\n",
       "      <td>117.5</td>\n",
       "      <td>120</td>\n",
       "      <td>120</td>\n",
       "      <td>55</td>\n",
       "      <td>57.5</td>\n",
       "      <td>60</td>\n",
       "      <td>60</td>\n",
       "      <td>145</td>\n",
       "      <td>147.5</td>\n",
       "      <td>150</td>\n",
       "      <td>150</td>\n",
       "      <td>330</td>\n",
       "    </tr>\n",
       "    <tr>\n",
       "      <th>3</th>\n",
       "      <td>F</td>\n",
       "      <td>19-23</td>\n",
       "      <td>51.5</td>\n",
       "      <td>70</td>\n",
       "      <td>75</td>\n",
       "      <td>77.5</td>\n",
       "      <td>77.5</td>\n",
       "      <td>47.5</td>\n",
       "      <td>50</td>\n",
       "      <td>52.5</td>\n",
       "      <td>52.5</td>\n",
       "      <td>102.5</td>\n",
       "      <td>110</td>\n",
       "      <td>-117.5</td>\n",
       "      <td>110</td>\n",
       "      <td>240</td>\n",
       "    </tr>\n",
       "    <tr>\n",
       "      <th>4</th>\n",
       "      <td>F</td>\n",
       "      <td>24-39</td>\n",
       "      <td>51.8</td>\n",
       "      <td>-92.5</td>\n",
       "      <td>92.5</td>\n",
       "      <td>-95</td>\n",
       "      <td>92.5</td>\n",
       "      <td>60</td>\n",
       "      <td>62.5</td>\n",
       "      <td>66</td>\n",
       "      <td>66</td>\n",
       "      <td>117.5</td>\n",
       "      <td>122.5</td>\n",
       "      <td>125</td>\n",
       "      <td>125</td>\n",
       "      <td>283.5</td>\n",
       "    </tr>\n",
       "  </tbody>\n",
       "</table>\n",
       "</div>"
      ],
      "text/plain": [
       "  Sex BirthClass    BW     S1     S2    S3 Best3S    B1    B2    B3 Best3B  \\\n",
       "0   F         \\N  50.6     85     90  92.5   92.5  57.5    60  62.5   62.5   \n",
       "1   F      24-39    51    -90    -90    90     90    50  52.5   -55   52.5   \n",
       "2   F      50-59  51.2    115  117.5   120    120    55  57.5    60     60   \n",
       "3   F      19-23  51.5     70     75  77.5   77.5  47.5    50  52.5   52.5   \n",
       "4   F      24-39  51.8  -92.5   92.5   -95   92.5    60  62.5    66     66   \n",
       "\n",
       "      D1     D2      D3 Best3D  Total  \n",
       "0  137.5  142.5     150    150    305  \n",
       "1    100  107.5   112.5  112.5    255  \n",
       "2    145  147.5     150    150    330  \n",
       "3  102.5    110  -117.5    110    240  \n",
       "4  117.5  122.5     125    125  283.5  "
      ]
     },
     "execution_count": 5,
     "metadata": {},
     "output_type": "execute_result"
    }
   ],
   "source": [
    "df.head()"
   ]
  },
  {
   "cell_type": "code",
   "execution_count": 6,
   "metadata": {},
   "outputs": [
    {
     "name": "stdout",
     "output_type": "stream",
     "text": [
      "<class 'pandas.core.frame.DataFrame'>\n",
      "RangeIndex: 405068 entries, 0 to 405067\n",
      "Data columns (total 16 columns):\n",
      " #   Column      Non-Null Count   Dtype \n",
      "---  ------      --------------   ----- \n",
      " 0   Sex         405068 non-null  object\n",
      " 1   BirthClass  405068 non-null  object\n",
      " 2   BW          405068 non-null  object\n",
      " 3   S1          405068 non-null  object\n",
      " 4   S2          405068 non-null  object\n",
      " 5   S3          405068 non-null  object\n",
      " 6   Best3S      405068 non-null  object\n",
      " 7   B1          405068 non-null  object\n",
      " 8   B2          405068 non-null  object\n",
      " 9   B3          405068 non-null  object\n",
      " 10  Best3B      405068 non-null  object\n",
      " 11  D1          405068 non-null  object\n",
      " 12  D2          405068 non-null  object\n",
      " 13  D3          405068 non-null  object\n",
      " 14  Best3D      405068 non-null  object\n",
      " 15  Total       405068 non-null  object\n",
      "dtypes: object(16)\n",
      "memory usage: 49.4+ MB\n"
     ]
    }
   ],
   "source": [
    "df.info()"
   ]
  },
  {
   "cell_type": "markdown",
   "metadata": {},
   "source": [
    "In order to model things, I'll first need to deal with nulls, one-hot encoding Sex and BirthClass, and ensuring the datatypes of the numerical values are numerical."
   ]
  },
  {
   "cell_type": "code",
   "execution_count": 7,
   "metadata": {},
   "outputs": [
    {
     "data": {
      "text/html": [
       "<div>\n",
       "<style scoped>\n",
       "    .dataframe tbody tr th:only-of-type {\n",
       "        vertical-align: middle;\n",
       "    }\n",
       "\n",
       "    .dataframe tbody tr th {\n",
       "        vertical-align: top;\n",
       "    }\n",
       "\n",
       "    .dataframe thead th {\n",
       "        text-align: right;\n",
       "    }\n",
       "</style>\n",
       "<table border=\"1\" class=\"dataframe\">\n",
       "  <thead>\n",
       "    <tr style=\"text-align: right;\">\n",
       "      <th></th>\n",
       "      <th>Sex</th>\n",
       "      <th>BirthClass</th>\n",
       "      <th>BW</th>\n",
       "      <th>S1</th>\n",
       "      <th>S2</th>\n",
       "      <th>S3</th>\n",
       "      <th>Best3S</th>\n",
       "      <th>B1</th>\n",
       "      <th>B2</th>\n",
       "      <th>B3</th>\n",
       "      <th>Best3B</th>\n",
       "      <th>D1</th>\n",
       "      <th>D2</th>\n",
       "      <th>D3</th>\n",
       "      <th>Best3D</th>\n",
       "      <th>Total</th>\n",
       "    </tr>\n",
       "  </thead>\n",
       "  <tbody>\n",
       "    <tr>\n",
       "      <th>0</th>\n",
       "      <td>F</td>\n",
       "      <td>None</td>\n",
       "      <td>50.6</td>\n",
       "      <td>85</td>\n",
       "      <td>90</td>\n",
       "      <td>92.5</td>\n",
       "      <td>92.5</td>\n",
       "      <td>57.5</td>\n",
       "      <td>60</td>\n",
       "      <td>62.5</td>\n",
       "      <td>62.5</td>\n",
       "      <td>137.5</td>\n",
       "      <td>142.5</td>\n",
       "      <td>150</td>\n",
       "      <td>150</td>\n",
       "      <td>305</td>\n",
       "    </tr>\n",
       "    <tr>\n",
       "      <th>1</th>\n",
       "      <td>F</td>\n",
       "      <td>24-39</td>\n",
       "      <td>51</td>\n",
       "      <td>-90</td>\n",
       "      <td>-90</td>\n",
       "      <td>90</td>\n",
       "      <td>90</td>\n",
       "      <td>50</td>\n",
       "      <td>52.5</td>\n",
       "      <td>-55</td>\n",
       "      <td>52.5</td>\n",
       "      <td>100</td>\n",
       "      <td>107.5</td>\n",
       "      <td>112.5</td>\n",
       "      <td>112.5</td>\n",
       "      <td>255</td>\n",
       "    </tr>\n",
       "    <tr>\n",
       "      <th>2</th>\n",
       "      <td>F</td>\n",
       "      <td>50-59</td>\n",
       "      <td>51.2</td>\n",
       "      <td>115</td>\n",
       "      <td>117.5</td>\n",
       "      <td>120</td>\n",
       "      <td>120</td>\n",
       "      <td>55</td>\n",
       "      <td>57.5</td>\n",
       "      <td>60</td>\n",
       "      <td>60</td>\n",
       "      <td>145</td>\n",
       "      <td>147.5</td>\n",
       "      <td>150</td>\n",
       "      <td>150</td>\n",
       "      <td>330</td>\n",
       "    </tr>\n",
       "    <tr>\n",
       "      <th>3</th>\n",
       "      <td>F</td>\n",
       "      <td>19-23</td>\n",
       "      <td>51.5</td>\n",
       "      <td>70</td>\n",
       "      <td>75</td>\n",
       "      <td>77.5</td>\n",
       "      <td>77.5</td>\n",
       "      <td>47.5</td>\n",
       "      <td>50</td>\n",
       "      <td>52.5</td>\n",
       "      <td>52.5</td>\n",
       "      <td>102.5</td>\n",
       "      <td>110</td>\n",
       "      <td>-117.5</td>\n",
       "      <td>110</td>\n",
       "      <td>240</td>\n",
       "    </tr>\n",
       "    <tr>\n",
       "      <th>4</th>\n",
       "      <td>F</td>\n",
       "      <td>24-39</td>\n",
       "      <td>51.8</td>\n",
       "      <td>-92.5</td>\n",
       "      <td>92.5</td>\n",
       "      <td>-95</td>\n",
       "      <td>92.5</td>\n",
       "      <td>60</td>\n",
       "      <td>62.5</td>\n",
       "      <td>66</td>\n",
       "      <td>66</td>\n",
       "      <td>117.5</td>\n",
       "      <td>122.5</td>\n",
       "      <td>125</td>\n",
       "      <td>125</td>\n",
       "      <td>283.5</td>\n",
       "    </tr>\n",
       "  </tbody>\n",
       "</table>\n",
       "</div>"
      ],
      "text/plain": [
       "  Sex BirthClass    BW     S1     S2    S3 Best3S    B1    B2    B3 Best3B  \\\n",
       "0   F       None  50.6     85     90  92.5   92.5  57.5    60  62.5   62.5   \n",
       "1   F      24-39    51    -90    -90    90     90    50  52.5   -55   52.5   \n",
       "2   F      50-59  51.2    115  117.5   120    120    55  57.5    60     60   \n",
       "3   F      19-23  51.5     70     75  77.5   77.5  47.5    50  52.5   52.5   \n",
       "4   F      24-39  51.8  -92.5   92.5   -95   92.5    60  62.5    66     66   \n",
       "\n",
       "      D1     D2      D3 Best3D  Total  \n",
       "0  137.5  142.5     150    150    305  \n",
       "1    100  107.5   112.5  112.5    255  \n",
       "2    145  147.5     150    150    330  \n",
       "3  102.5    110  -117.5    110    240  \n",
       "4  117.5  122.5     125    125  283.5  "
      ]
     },
     "execution_count": 7,
     "metadata": {},
     "output_type": "execute_result"
    }
   ],
   "source": [
    "df.replace('\\\\N', None, inplace=True)\n",
    "df.head()"
   ]
  },
  {
   "cell_type": "code",
   "execution_count": 8,
   "metadata": {},
   "outputs": [
    {
     "name": "stdout",
     "output_type": "stream",
     "text": [
      "<class 'pandas.core.frame.DataFrame'>\n",
      "RangeIndex: 405068 entries, 0 to 405067\n",
      "Data columns (total 16 columns):\n",
      " #   Column      Non-Null Count   Dtype \n",
      "---  ------      --------------   ----- \n",
      " 0   Sex         405068 non-null  object\n",
      " 1   BirthClass  348813 non-null  object\n",
      " 2   BW          404317 non-null  object\n",
      " 3   S1          308221 non-null  object\n",
      " 4   S2          305952 non-null  object\n",
      " 5   S3          299979 non-null  object\n",
      " 6   Best3S      401970 non-null  object\n",
      " 7   B1          307500 non-null  object\n",
      " 8   B2          305465 non-null  object\n",
      " 9   B3          298742 non-null  object\n",
      " 10  Best3B      400479 non-null  object\n",
      " 11  D1          306710 non-null  object\n",
      " 12  D2          302907 non-null  object\n",
      " 13  D3          294932 non-null  object\n",
      " 14  Best3D      398549 non-null  object\n",
      " 15  Total       390467 non-null  object\n",
      "dtypes: object(16)\n",
      "memory usage: 49.4+ MB\n"
     ]
    }
   ],
   "source": [
    "df.info()"
   ]
  },
  {
   "cell_type": "code",
   "execution_count": 9,
   "metadata": {},
   "outputs": [],
   "source": [
    "df[['BW', 'S1', 'S2','S3','Best3S','B1','B2','B3','Best3B','D1','D2', 'D3', 'Best3D', 'Total']] = df[['BW', 'S1', 'S2','S3','Best3S','B1','B2','B3','Best3B','D1','D2', 'D3', 'Best3D', 'Total']].astype(float)"
   ]
  },
  {
   "cell_type": "code",
   "execution_count": 10,
   "metadata": {},
   "outputs": [
    {
     "name": "stdout",
     "output_type": "stream",
     "text": [
      "<class 'pandas.core.frame.DataFrame'>\n",
      "RangeIndex: 405068 entries, 0 to 405067\n",
      "Data columns (total 16 columns):\n",
      " #   Column      Non-Null Count   Dtype  \n",
      "---  ------      --------------   -----  \n",
      " 0   Sex         405068 non-null  object \n",
      " 1   BirthClass  348813 non-null  object \n",
      " 2   BW          404317 non-null  float64\n",
      " 3   S1          308221 non-null  float64\n",
      " 4   S2          305952 non-null  float64\n",
      " 5   S3          299979 non-null  float64\n",
      " 6   Best3S      401970 non-null  float64\n",
      " 7   B1          307500 non-null  float64\n",
      " 8   B2          305465 non-null  float64\n",
      " 9   B3          298742 non-null  float64\n",
      " 10  Best3B      400479 non-null  float64\n",
      " 11  D1          306710 non-null  float64\n",
      " 12  D2          302907 non-null  float64\n",
      " 13  D3          294932 non-null  float64\n",
      " 14  Best3D      398549 non-null  float64\n",
      " 15  Total       390467 non-null  float64\n",
      "dtypes: float64(14), object(2)\n",
      "memory usage: 49.4+ MB\n"
     ]
    }
   ],
   "source": [
    "df.info()"
   ]
  },
  {
   "cell_type": "markdown",
   "metadata": {},
   "source": [
    "Were there an API that I could call upon to cross reference lifter names (in the original dataframe) and ages, it might be possible to impute missing BirthClass values. However, since this data spans from the 1970s, this informaiton may not be available anywhere. There are too many to do by hand, so I will drop all rows with BirthClass nulls. Same thing for bodyweight."
   ]
  },
  {
   "cell_type": "code",
   "execution_count": 12,
   "metadata": {},
   "outputs": [
    {
     "name": "stdout",
     "output_type": "stream",
     "text": [
      "<class 'pandas.core.frame.DataFrame'>\n",
      "Int64Index: 348813 entries, 1 to 405067\n",
      "Data columns (total 16 columns):\n",
      " #   Column      Non-Null Count   Dtype  \n",
      "---  ------      --------------   -----  \n",
      " 0   Sex         348813 non-null  object \n",
      " 1   BirthClass  348813 non-null  object \n",
      " 2   BW          348268 non-null  float64\n",
      " 3   S1          271919 non-null  float64\n",
      " 4   S2          269848 non-null  float64\n",
      " 5   S3          264519 non-null  float64\n",
      " 6   Best3S      346095 non-null  float64\n",
      " 7   B1          271283 non-null  float64\n",
      " 8   B2          269428 non-null  float64\n",
      " 9   B3          263346 non-null  float64\n",
      " 10  Best3B      344750 non-null  float64\n",
      " 11  D1          270603 non-null  float64\n",
      " 12  D2          267168 non-null  float64\n",
      " 13  D3          260051 non-null  float64\n",
      " 14  Best3D      343000 non-null  float64\n",
      " 15  Total       335923 non-null  float64\n",
      "dtypes: float64(14), object(2)\n",
      "memory usage: 45.2+ MB\n"
     ]
    }
   ],
   "source": [
    "df_no_null = df.dropna(subset=['BirthClass'])\n",
    "df_no_null.info()"
   ]
  },
  {
   "cell_type": "code",
   "execution_count": 13,
   "metadata": {},
   "outputs": [
    {
     "name": "stdout",
     "output_type": "stream",
     "text": [
      "<class 'pandas.core.frame.DataFrame'>\n",
      "Int64Index: 348268 entries, 1 to 405067\n",
      "Data columns (total 16 columns):\n",
      " #   Column      Non-Null Count   Dtype  \n",
      "---  ------      --------------   -----  \n",
      " 0   Sex         348268 non-null  object \n",
      " 1   BirthClass  348268 non-null  object \n",
      " 2   BW          348268 non-null  float64\n",
      " 3   S1          271884 non-null  float64\n",
      " 4   S2          269813 non-null  float64\n",
      " 5   S3          264486 non-null  float64\n",
      " 6   Best3S      345934 non-null  float64\n",
      " 7   B1          271246 non-null  float64\n",
      " 8   B2          269391 non-null  float64\n",
      " 9   B3          263310 non-null  float64\n",
      " 10  Best3B      344588 non-null  float64\n",
      " 11  D1          270568 non-null  float64\n",
      " 12  D2          267133 non-null  float64\n",
      " 13  D3          260019 non-null  float64\n",
      " 14  Best3D      342842 non-null  float64\n",
      " 15  Total       335766 non-null  float64\n",
      "dtypes: float64(14), object(2)\n",
      "memory usage: 45.2+ MB\n"
     ]
    }
   ],
   "source": [
    "df_no_null = df_no_null.dropna(subset=['BW'])\n",
    "df_no_null.info()"
   ]
  },
  {
   "cell_type": "code",
   "execution_count": 14,
   "metadata": {},
   "outputs": [],
   "source": [
    "dfonehot = pd.get_dummies(df_no_null, columns=['Sex', 'BirthClass'])"
   ]
  },
  {
   "cell_type": "code",
   "execution_count": 15,
   "metadata": {},
   "outputs": [
    {
     "data": {
      "text/html": [
       "<div>\n",
       "<style scoped>\n",
       "    .dataframe tbody tr th:only-of-type {\n",
       "        vertical-align: middle;\n",
       "    }\n",
       "\n",
       "    .dataframe tbody tr th {\n",
       "        vertical-align: top;\n",
       "    }\n",
       "\n",
       "    .dataframe thead th {\n",
       "        text-align: right;\n",
       "    }\n",
       "</style>\n",
       "<table border=\"1\" class=\"dataframe\">\n",
       "  <thead>\n",
       "    <tr style=\"text-align: right;\">\n",
       "      <th></th>\n",
       "      <th>BW</th>\n",
       "      <th>S1</th>\n",
       "      <th>S2</th>\n",
       "      <th>S3</th>\n",
       "      <th>Best3S</th>\n",
       "      <th>B1</th>\n",
       "      <th>B2</th>\n",
       "      <th>B3</th>\n",
       "      <th>Best3B</th>\n",
       "      <th>D1</th>\n",
       "      <th>...</th>\n",
       "      <th>Sex_F</th>\n",
       "      <th>Sex_M</th>\n",
       "      <th>Sex_Mx</th>\n",
       "      <th>BirthClass_14-18</th>\n",
       "      <th>BirthClass_19-23</th>\n",
       "      <th>BirthClass_24-39</th>\n",
       "      <th>BirthClass_40-49</th>\n",
       "      <th>BirthClass_50-59</th>\n",
       "      <th>BirthClass_60-69</th>\n",
       "      <th>BirthClass_70-999</th>\n",
       "    </tr>\n",
       "  </thead>\n",
       "  <tbody>\n",
       "    <tr>\n",
       "      <th>1</th>\n",
       "      <td>51.0</td>\n",
       "      <td>-90.0</td>\n",
       "      <td>-90.0</td>\n",
       "      <td>90.0</td>\n",
       "      <td>90.0</td>\n",
       "      <td>50.0</td>\n",
       "      <td>52.5</td>\n",
       "      <td>-55.0</td>\n",
       "      <td>52.5</td>\n",
       "      <td>100.0</td>\n",
       "      <td>...</td>\n",
       "      <td>1</td>\n",
       "      <td>0</td>\n",
       "      <td>0</td>\n",
       "      <td>0</td>\n",
       "      <td>0</td>\n",
       "      <td>1</td>\n",
       "      <td>0</td>\n",
       "      <td>0</td>\n",
       "      <td>0</td>\n",
       "      <td>0</td>\n",
       "    </tr>\n",
       "    <tr>\n",
       "      <th>2</th>\n",
       "      <td>51.2</td>\n",
       "      <td>115.0</td>\n",
       "      <td>117.5</td>\n",
       "      <td>120.0</td>\n",
       "      <td>120.0</td>\n",
       "      <td>55.0</td>\n",
       "      <td>57.5</td>\n",
       "      <td>60.0</td>\n",
       "      <td>60.0</td>\n",
       "      <td>145.0</td>\n",
       "      <td>...</td>\n",
       "      <td>1</td>\n",
       "      <td>0</td>\n",
       "      <td>0</td>\n",
       "      <td>0</td>\n",
       "      <td>0</td>\n",
       "      <td>0</td>\n",
       "      <td>0</td>\n",
       "      <td>1</td>\n",
       "      <td>0</td>\n",
       "      <td>0</td>\n",
       "    </tr>\n",
       "    <tr>\n",
       "      <th>3</th>\n",
       "      <td>51.5</td>\n",
       "      <td>70.0</td>\n",
       "      <td>75.0</td>\n",
       "      <td>77.5</td>\n",
       "      <td>77.5</td>\n",
       "      <td>47.5</td>\n",
       "      <td>50.0</td>\n",
       "      <td>52.5</td>\n",
       "      <td>52.5</td>\n",
       "      <td>102.5</td>\n",
       "      <td>...</td>\n",
       "      <td>1</td>\n",
       "      <td>0</td>\n",
       "      <td>0</td>\n",
       "      <td>0</td>\n",
       "      <td>1</td>\n",
       "      <td>0</td>\n",
       "      <td>0</td>\n",
       "      <td>0</td>\n",
       "      <td>0</td>\n",
       "      <td>0</td>\n",
       "    </tr>\n",
       "    <tr>\n",
       "      <th>4</th>\n",
       "      <td>51.8</td>\n",
       "      <td>-92.5</td>\n",
       "      <td>92.5</td>\n",
       "      <td>-95.0</td>\n",
       "      <td>92.5</td>\n",
       "      <td>60.0</td>\n",
       "      <td>62.5</td>\n",
       "      <td>66.0</td>\n",
       "      <td>66.0</td>\n",
       "      <td>117.5</td>\n",
       "      <td>...</td>\n",
       "      <td>1</td>\n",
       "      <td>0</td>\n",
       "      <td>0</td>\n",
       "      <td>0</td>\n",
       "      <td>0</td>\n",
       "      <td>1</td>\n",
       "      <td>0</td>\n",
       "      <td>0</td>\n",
       "      <td>0</td>\n",
       "      <td>0</td>\n",
       "    </tr>\n",
       "    <tr>\n",
       "      <th>5</th>\n",
       "      <td>52.0</td>\n",
       "      <td>80.0</td>\n",
       "      <td>-87.5</td>\n",
       "      <td>87.5</td>\n",
       "      <td>87.5</td>\n",
       "      <td>57.5</td>\n",
       "      <td>62.5</td>\n",
       "      <td>-65.5</td>\n",
       "      <td>62.5</td>\n",
       "      <td>110.0</td>\n",
       "      <td>...</td>\n",
       "      <td>1</td>\n",
       "      <td>0</td>\n",
       "      <td>0</td>\n",
       "      <td>0</td>\n",
       "      <td>0</td>\n",
       "      <td>1</td>\n",
       "      <td>0</td>\n",
       "      <td>0</td>\n",
       "      <td>0</td>\n",
       "      <td>0</td>\n",
       "    </tr>\n",
       "  </tbody>\n",
       "</table>\n",
       "<p>5 rows × 24 columns</p>\n",
       "</div>"
      ],
      "text/plain": [
       "     BW     S1     S2     S3  Best3S    B1    B2    B3  Best3B     D1  ...  \\\n",
       "1  51.0  -90.0  -90.0   90.0    90.0  50.0  52.5 -55.0    52.5  100.0  ...   \n",
       "2  51.2  115.0  117.5  120.0   120.0  55.0  57.5  60.0    60.0  145.0  ...   \n",
       "3  51.5   70.0   75.0   77.5    77.5  47.5  50.0  52.5    52.5  102.5  ...   \n",
       "4  51.8  -92.5   92.5  -95.0    92.5  60.0  62.5  66.0    66.0  117.5  ...   \n",
       "5  52.0   80.0  -87.5   87.5    87.5  57.5  62.5 -65.5    62.5  110.0  ...   \n",
       "\n",
       "   Sex_F  Sex_M  Sex_Mx  BirthClass_14-18  BirthClass_19-23  BirthClass_24-39  \\\n",
       "1      1      0       0                 0                 0                 1   \n",
       "2      1      0       0                 0                 0                 0   \n",
       "3      1      0       0                 0                 1                 0   \n",
       "4      1      0       0                 0                 0                 1   \n",
       "5      1      0       0                 0                 0                 1   \n",
       "\n",
       "   BirthClass_40-49  BirthClass_50-59  BirthClass_60-69  BirthClass_70-999  \n",
       "1                 0                 0                 0                  0  \n",
       "2                 0                 1                 0                  0  \n",
       "3                 0                 0                 0                  0  \n",
       "4                 0                 0                 0                  0  \n",
       "5                 0                 0                 0                  0  \n",
       "\n",
       "[5 rows x 24 columns]"
      ]
     },
     "execution_count": 15,
     "metadata": {},
     "output_type": "execute_result"
    }
   ],
   "source": [
    "dfonehot.head()"
   ]
  },
  {
   "cell_type": "code",
   "execution_count": 16,
   "metadata": {},
   "outputs": [
    {
     "data": {
      "text/plain": [
       "5"
      ]
     },
     "execution_count": 16,
     "metadata": {},
     "output_type": "execute_result"
    }
   ],
   "source": [
    "dfonehot['Sex_Mx'].sum()"
   ]
  },
  {
   "cell_type": "markdown",
   "metadata": {},
   "source": [
    "I think it's important to represent data for underrepresented groups such as non-binary individuals, however, there are only 5 rows with informaiton on non-binary competitors. This means that the model won't actually learn anything about the performance of non-binary competitors. Given the technical limitation and the extremely low number of non-binary competitors, I will omit this information and I hope that the IPF continues to expand and record competitors in underrepresented genders."
   ]
  },
  {
   "cell_type": "code",
   "execution_count": 17,
   "metadata": {},
   "outputs": [],
   "source": [
    "dfonehot = dfonehot[dfonehot['Sex_Mx']==0]\n",
    "dfonehot = dfonehot.drop('Sex_Mx', axis=1)"
   ]
  },
  {
   "cell_type": "code",
   "execution_count": 18,
   "metadata": {},
   "outputs": [
    {
     "name": "stdout",
     "output_type": "stream",
     "text": [
      "<class 'pandas.core.frame.DataFrame'>\n",
      "Int64Index: 348263 entries, 1 to 405067\n",
      "Data columns (total 23 columns):\n",
      " #   Column             Non-Null Count   Dtype  \n",
      "---  ------             --------------   -----  \n",
      " 0   BW                 348263 non-null  float64\n",
      " 1   S1                 271879 non-null  float64\n",
      " 2   S2                 269808 non-null  float64\n",
      " 3   S3                 264481 non-null  float64\n",
      " 4   Best3S             345929 non-null  float64\n",
      " 5   B1                 271241 non-null  float64\n",
      " 6   B2                 269386 non-null  float64\n",
      " 7   B3                 263305 non-null  float64\n",
      " 8   Best3B             344583 non-null  float64\n",
      " 9   D1                 270563 non-null  float64\n",
      " 10  D2                 267128 non-null  float64\n",
      " 11  D3                 260014 non-null  float64\n",
      " 12  Best3D             342837 non-null  float64\n",
      " 13  Total              335761 non-null  float64\n",
      " 14  Sex_F              348263 non-null  uint8  \n",
      " 15  Sex_M              348263 non-null  uint8  \n",
      " 16  BirthClass_14-18   348263 non-null  uint8  \n",
      " 17  BirthClass_19-23   348263 non-null  uint8  \n",
      " 18  BirthClass_24-39   348263 non-null  uint8  \n",
      " 19  BirthClass_40-49   348263 non-null  uint8  \n",
      " 20  BirthClass_50-59   348263 non-null  uint8  \n",
      " 21  BirthClass_60-69   348263 non-null  uint8  \n",
      " 22  BirthClass_70-999  348263 non-null  uint8  \n",
      "dtypes: float64(14), uint8(9)\n",
      "memory usage: 42.8 MB\n"
     ]
    }
   ],
   "source": [
    "dfonehot.info()"
   ]
  },
  {
   "cell_type": "code",
   "execution_count": 19,
   "metadata": {},
   "outputs": [
    {
     "data": {
      "text/plain": [
       "112792"
      ]
     },
     "execution_count": 19,
     "metadata": {},
     "output_type": "execute_result"
    }
   ],
   "source": [
    "dfonehot['Sex_F'].sum()"
   ]
  },
  {
   "cell_type": "code",
   "execution_count": 20,
   "metadata": {},
   "outputs": [
    {
     "data": {
      "text/plain": [
       "235471"
      ]
     },
     "execution_count": 20,
     "metadata": {},
     "output_type": "execute_result"
    }
   ],
   "source": [
    "dfonehot['Sex_M'].sum()"
   ]
  },
  {
   "cell_type": "markdown",
   "metadata": {},
   "source": [
    "At this point in my model development, I will set acknowledge but set aside the imbalance in gender data here."
   ]
  },
  {
   "cell_type": "markdown",
   "metadata": {},
   "source": [
    "Starting with Squat, I will make a model that predicts the best S2 and then a model that predicts the best S3 using information like Sex, BirthClass, and BW. I will not make a model that predicts S1 since that is largely dependent on the athlete's one rep max at the time of competition along with fatigue and injury factors. This is not information I have access to in this data. Second and third attempts, however, are more strategic and dependent on the tone set by the first attempt.\n",
    "\n",
    "Since there will be multiple models that consecutively determine the next lift attempt, I will create dataframes that drop the relevant values at each model development onset."
   ]
  },
  {
   "cell_type": "markdown",
   "metadata": {},
   "source": [
    "## Linear Regression"
   ]
  },
  {
   "cell_type": "code",
   "execution_count": 33,
   "metadata": {},
   "outputs": [],
   "source": [
    "dflr1 = dfonehot.dropna(subset=['S1'])"
   ]
  },
  {
   "cell_type": "code",
   "execution_count": 35,
   "metadata": {},
   "outputs": [],
   "source": [
    "dflr1 = dflr1.dropna(subset=['S2'])"
   ]
  },
  {
   "cell_type": "code",
   "execution_count": 36,
   "metadata": {},
   "outputs": [
    {
     "name": "stdout",
     "output_type": "stream",
     "text": [
      "<class 'pandas.core.frame.DataFrame'>\n",
      "Int64Index: 269752 entries, 1 to 405066\n",
      "Data columns (total 23 columns):\n",
      " #   Column             Non-Null Count   Dtype  \n",
      "---  ------             --------------   -----  \n",
      " 0   BW                 269752 non-null  float64\n",
      " 1   S1                 269752 non-null  float64\n",
      " 2   S2                 269752 non-null  float64\n",
      " 3   S3                 264320 non-null  float64\n",
      " 4   Best3S             269631 non-null  float64\n",
      " 5   B1                 269098 non-null  float64\n",
      " 6   B2                 267991 non-null  float64\n",
      " 7   B3                 262128 non-null  float64\n",
      " 8   Best3B             268641 non-null  float64\n",
      " 9   D1                 268326 non-null  float64\n",
      " 10  D2                 265975 non-null  float64\n",
      " 11  D3                 259101 non-null  float64\n",
      " 12  Best3D             267514 non-null  float64\n",
      " 13  Total              260886 non-null  float64\n",
      " 14  Sex_F              269752 non-null  uint8  \n",
      " 15  Sex_M              269752 non-null  uint8  \n",
      " 16  BirthClass_14-18   269752 non-null  uint8  \n",
      " 17  BirthClass_19-23   269752 non-null  uint8  \n",
      " 18  BirthClass_24-39   269752 non-null  uint8  \n",
      " 19  BirthClass_40-49   269752 non-null  uint8  \n",
      " 20  BirthClass_50-59   269752 non-null  uint8  \n",
      " 21  BirthClass_60-69   269752 non-null  uint8  \n",
      " 22  BirthClass_70-999  269752 non-null  uint8  \n",
      "dtypes: float64(14), uint8(9)\n",
      "memory usage: 33.2 MB\n"
     ]
    }
   ],
   "source": [
    "dflr1.info()"
   ]
  },
  {
   "cell_type": "code",
   "execution_count": 37,
   "metadata": {},
   "outputs": [],
   "source": [
    "X = dflr1[['Sex_F', 'Sex_M', 'BirthClass_14-18', 'BirthClass_19-23', 'BirthClass_24-39', 'BirthClass_40-49', 'BirthClass_50-59', 'BirthClass_60-69', 'BirthClass_70-999', 'BW', 'S1']]\n",
    "y = dflr1['S2']"
   ]
  },
  {
   "cell_type": "code",
   "execution_count": 38,
   "metadata": {},
   "outputs": [],
   "source": [
    "X_full, X_test, y_full, y_test = train_test_split(X, y, test_size=0.2, random_state=2)"
   ]
  },
  {
   "cell_type": "code",
   "execution_count": 39,
   "metadata": {},
   "outputs": [],
   "source": [
    "X_train, X_val, y_train, y_val = train_test_split(X_full, y_full, test_size=0.2, random_state=2)"
   ]
  },
  {
   "cell_type": "code",
   "execution_count": 49,
   "metadata": {},
   "outputs": [
    {
     "name": "stdout",
     "output_type": "stream",
     "text": [
      "0.08973892421785135\n",
      "0.09305034273523927\n"
     ]
    }
   ],
   "source": [
    "#first pass no hyperparameter optimizations specified\n",
    "linreg = LinearRegression()\n",
    "linreg.fit(X_train, y_train)\n",
    "print(linreg.score(X_train, y_train))\n",
    "print(linreg.score(X_val, y_val))"
   ]
  },
  {
   "cell_type": "markdown",
   "metadata": {},
   "source": [
    "## HGradBoost Regressor"
   ]
  },
  {
   "cell_type": "code",
   "execution_count": 51,
   "metadata": {},
   "outputs": [],
   "source": [
    "dfhgb = dfonehot.dropna(subset=['S2'])"
   ]
  },
  {
   "cell_type": "code",
   "execution_count": 52,
   "metadata": {},
   "outputs": [],
   "source": [
    "Xgb = dfhgb[['Sex_F', 'Sex_M', 'BirthClass_14-18', 'BirthClass_19-23', 'BirthClass_24-39', 'BirthClass_40-49', 'BirthClass_50-59', 'BirthClass_60-69', 'BirthClass_70-999', 'BW', 'S1']]\n",
    "ygb = dfhgb['S2']"
   ]
  },
  {
   "cell_type": "code",
   "execution_count": 53,
   "metadata": {},
   "outputs": [],
   "source": [
    "X_fullgb, X_testgb, y_fullgb, y_testgb = train_test_split(Xgb, ygb, test_size=0.2, random_state=2)"
   ]
  },
  {
   "cell_type": "code",
   "execution_count": 54,
   "metadata": {},
   "outputs": [],
   "source": [
    "X_traingb, X_valgb, y_traingb, y_valgb = train_test_split(X_fullgb, y_fullgb, test_size=0.2, random_state=2)"
   ]
  },
  {
   "cell_type": "code",
   "execution_count": 55,
   "metadata": {},
   "outputs": [
    {
     "name": "stdout",
     "output_type": "stream",
     "text": [
      "0.11025672994018254\n",
      "0.10273380772420981\n"
     ]
    }
   ],
   "source": [
    "hgradboost = HistGradientBoostingRegressor()\n",
    "hgradboost.fit(X_traingb, y_traingb)\n",
    "print(hgradboost.score(X_traingb, y_traingb))\n",
    "print(hgradboost.score(X_testgb, y_testgb))"
   ]
  },
  {
   "cell_type": "code",
   "execution_count": 60,
   "metadata": {},
   "outputs": [],
   "source": [
    "params = {'learning_rate': [0.01,0.02,0.03,0.04],\n",
    "                  'l2_regularization' : [0.01, 0.1, 0, 10, 100],\n",
    "                  'max_depth'    : [4,6,8,10]\n",
    "}"
   ]
  },
  {
   "cell_type": "code",
   "execution_count": 61,
   "metadata": {},
   "outputs": [],
   "source": [
    "grid = GridSearchCV(hgradboost, param_grid=params)\n",
    "fitted_search = grid.fit(X_full, y_full)"
   ]
  },
  {
   "cell_type": "code",
   "execution_count": 62,
   "metadata": {},
   "outputs": [
    {
     "name": "stdout",
     "output_type": "stream",
     "text": [
      "The best parameters: {'l2_regularization': 10, 'learning_rate': 0.04, 'max_depth': 8}\n",
      "The best score: 0.10192486345900986\n"
     ]
    }
   ],
   "source": [
    "print(f'The best parameters: {fitted_search.best_params_}')\n",
    "print(f'The best score: {fitted_search.best_score_}')"
   ]
  },
  {
   "cell_type": "markdown",
   "metadata": {},
   "source": [
    "## SVR"
   ]
  },
  {
   "cell_type": "code",
   "execution_count": 66,
   "metadata": {},
   "outputs": [],
   "source": [
    "svrmodel = SVR()\n",
    "params = {\n",
    "    'C':[0.1,1,10],\n",
    "    'kernel': ['linear', 'rbf'],\n",
    "    'gamma': [0.01, 0.1, 1]\n",
    "}"
   ]
  },
  {
   "cell_type": "code",
   "execution_count": 67,
   "metadata": {},
   "outputs": [],
   "source": [
    "grid = GridSearchCV(svrmodel, param_grid=params)\n",
    "fitted_search = grid.fit(X_full, y_full)"
   ]
  },
  {
   "cell_type": "code",
   "execution_count": null,
   "metadata": {},
   "outputs": [],
   "source": [
    "print(f'The best parameters: {fitted_search.best_params_}')\n",
    "print(f'The best score: {fitted_search.best_score_}')"
   ]
  },
  {
   "cell_type": "markdown",
   "metadata": {},
   "source": [
    "These are not great scores. I will revisit the data cleaning to figure out how to proceed. Failed attempts are currently marked with a negative number, and that might be throwing off the model. I will train one with only the successful attempts (after all, the goal is to be able to predict a successful attempt), and check the score of that model."
   ]
  },
  {
   "cell_type": "markdown",
   "metadata": {},
   "source": [
    "First, I'll try by turning the negative numbers to 0."
   ]
  },
  {
   "cell_type": "code",
   "execution_count": null,
   "metadata": {},
   "outputs": [],
   "source": [
    "dflr2 = dflr1"
   ]
  },
  {
   "cell_type": "code",
   "execution_count": null,
   "metadata": {},
   "outputs": [],
   "source": [
    "dflr2['s1'] = dflr2['s1'].where(dflr2['s1'] >= 0, 0)"
   ]
  },
  {
   "cell_type": "code",
   "execution_count": null,
   "metadata": {},
   "outputs": [],
   "source": [
    "dflr2.sample(10)"
   ]
  },
  {
   "cell_type": "code",
   "execution_count": null,
   "metadata": {},
   "outputs": [],
   "source": [
    "X2 = dflr2[['Sex_F', 'Sex_M', 'BirthClass_14-18', 'BirthClass_19-23', 'BirthClass_24-39', 'BirthClass_40-49', 'BirthClass_50-59', 'BirthClass_60-69', 'BirthClass_70-999', 'BW', 'S1']]\n",
    "y2 = dflr2['S2']"
   ]
  },
  {
   "cell_type": "code",
   "execution_count": null,
   "metadata": {},
   "outputs": [],
   "source": [
    "X_full2, X_test2, y_full2, y_test2 = train_test_split(X2, y2, test_size=0.2, random_state=2)"
   ]
  },
  {
   "cell_type": "code",
   "execution_count": null,
   "metadata": {},
   "outputs": [],
   "source": [
    "X_train2, X_val2, y_train2, y_val2 = train_test_split(X_full2, y_full2, test_size=0.2, random_state=2)"
   ]
  },
  {
   "cell_type": "code",
   "execution_count": null,
   "metadata": {},
   "outputs": [],
   "source": [
    "hgradboost = HistGradientBoostingRegressor()\n",
    "hgradboost.fit(X_train2, y_train2)\n",
    "print(hgradboost.score(X_train2, y_train2))\n",
    "print(hgradboost.score(X_test2, y_test2))"
   ]
  },
  {
   "cell_type": "markdown",
   "metadata": {},
   "source": [
    "Now I'll try by getting rid of all rows with negative numbers."
   ]
  },
  {
   "cell_type": "code",
   "execution_count": null,
   "metadata": {},
   "outputs": [],
   "source": [
    "dflr3 = dflr1[~(dflr1 < 0).any(axis=1)]\n"
   ]
  }
 ],
 "metadata": {
  "kernelspec": {
   "display_name": "base",
   "language": "python",
   "name": "python3"
  },
  "language_info": {
   "codemirror_mode": {
    "name": "ipython",
    "version": 3
   },
   "file_extension": ".py",
   "mimetype": "text/x-python",
   "name": "python",
   "nbconvert_exporter": "python",
   "pygments_lexer": "ipython3",
   "version": "3.10.9"
  },
  "orig_nbformat": 4
 },
 "nbformat": 4,
 "nbformat_minor": 2
}
