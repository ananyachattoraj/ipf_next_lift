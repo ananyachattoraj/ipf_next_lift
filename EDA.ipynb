{
 "cells": [
  {
   "cell_type": "markdown",
   "metadata": {},
   "source": [
    "Initial Assessment"
   ]
  },
  {
   "cell_type": "code",
   "execution_count": 1,
   "metadata": {},
   "outputs": [],
   "source": [
    "import numpy as np\n",
    "import pandas as pd\n",
    "import matplotlib.pyplot as plt\n",
    "import seaborn as sns"
   ]
  },
  {
   "cell_type": "code",
   "execution_count": 10,
   "metadata": {},
   "outputs": [
    {
     "name": "stderr",
     "output_type": "stream",
     "text": [
      "C:\\Users\\Ananya\\AppData\\Local\\Temp\\ipykernel_20304\\2425286704.py:1: DtypeWarning: Columns (33,38) have mixed types. Specify dtype option on import or set low_memory=False.\n",
      "  df = pd.read_csv('openipf-latest/openipf-2023-08-05/openipf-2023-08-05-ae3dc469.csv', na_filter=True)\n"
     ]
    },
    {
     "data": {
      "text/plain": [
       "(1188859, 41)"
      ]
     },
     "execution_count": 10,
     "metadata": {},
     "output_type": "execute_result"
    }
   ],
   "source": [
    "df = pd.read_csv('openipf-latest/openipf-2023-08-05/openipf-2023-08-05-ae3dc469.csv', na_filter=True)\n",
    "df.shape"
   ]
  },
  {
   "cell_type": "code",
   "execution_count": 11,
   "metadata": {},
   "outputs": [
    {
     "data": {
      "text/html": [
       "<div>\n",
       "<style scoped>\n",
       "    .dataframe tbody tr th:only-of-type {\n",
       "        vertical-align: middle;\n",
       "    }\n",
       "\n",
       "    .dataframe tbody tr th {\n",
       "        vertical-align: top;\n",
       "    }\n",
       "\n",
       "    .dataframe thead th {\n",
       "        text-align: right;\n",
       "    }\n",
       "</style>\n",
       "<table border=\"1\" class=\"dataframe\">\n",
       "  <thead>\n",
       "    <tr style=\"text-align: right;\">\n",
       "      <th></th>\n",
       "      <th>Name</th>\n",
       "      <th>Sex</th>\n",
       "      <th>Event</th>\n",
       "      <th>Equipment</th>\n",
       "      <th>Age</th>\n",
       "      <th>AgeClass</th>\n",
       "      <th>BirthYearClass</th>\n",
       "      <th>Division</th>\n",
       "      <th>BodyweightKg</th>\n",
       "      <th>WeightClassKg</th>\n",
       "      <th>...</th>\n",
       "      <th>Tested</th>\n",
       "      <th>Country</th>\n",
       "      <th>State</th>\n",
       "      <th>Federation</th>\n",
       "      <th>ParentFederation</th>\n",
       "      <th>Date</th>\n",
       "      <th>MeetCountry</th>\n",
       "      <th>MeetState</th>\n",
       "      <th>MeetTown</th>\n",
       "      <th>MeetName</th>\n",
       "    </tr>\n",
       "  </thead>\n",
       "  <tbody>\n",
       "    <tr>\n",
       "      <th>0</th>\n",
       "      <td>Karen Thomson</td>\n",
       "      <td>F</td>\n",
       "      <td>SBD</td>\n",
       "      <td>Single-ply</td>\n",
       "      <td>39.5</td>\n",
       "      <td>35-39</td>\n",
       "      <td>40-49</td>\n",
       "      <td>Masters 1</td>\n",
       "      <td>51.90</td>\n",
       "      <td>52</td>\n",
       "      <td>...</td>\n",
       "      <td>Yes</td>\n",
       "      <td>New Zealand</td>\n",
       "      <td>NaN</td>\n",
       "      <td>OceaniaPF</td>\n",
       "      <td>IPF</td>\n",
       "      <td>2002-12-06</td>\n",
       "      <td>New Zealand</td>\n",
       "      <td>BOP</td>\n",
       "      <td>Tauranga</td>\n",
       "      <td>Oceania Championships</td>\n",
       "    </tr>\n",
       "    <tr>\n",
       "      <th>1</th>\n",
       "      <td>Deborah Groves</td>\n",
       "      <td>F</td>\n",
       "      <td>SBD</td>\n",
       "      <td>Single-ply</td>\n",
       "      <td>30.5</td>\n",
       "      <td>24-34</td>\n",
       "      <td>24-39</td>\n",
       "      <td>Open</td>\n",
       "      <td>50.64</td>\n",
       "      <td>52</td>\n",
       "      <td>...</td>\n",
       "      <td>Yes</td>\n",
       "      <td>Australia</td>\n",
       "      <td>NaN</td>\n",
       "      <td>OceaniaPF</td>\n",
       "      <td>IPF</td>\n",
       "      <td>2002-12-06</td>\n",
       "      <td>New Zealand</td>\n",
       "      <td>BOP</td>\n",
       "      <td>Tauranga</td>\n",
       "      <td>Oceania Championships</td>\n",
       "    </tr>\n",
       "    <tr>\n",
       "      <th>2</th>\n",
       "      <td>Renee Orbon</td>\n",
       "      <td>F</td>\n",
       "      <td>SBD</td>\n",
       "      <td>Single-ply</td>\n",
       "      <td>31.5</td>\n",
       "      <td>24-34</td>\n",
       "      <td>24-39</td>\n",
       "      <td>Open</td>\n",
       "      <td>55.76</td>\n",
       "      <td>56</td>\n",
       "      <td>...</td>\n",
       "      <td>Yes</td>\n",
       "      <td>New Zealand</td>\n",
       "      <td>NaN</td>\n",
       "      <td>OceaniaPF</td>\n",
       "      <td>IPF</td>\n",
       "      <td>2002-12-06</td>\n",
       "      <td>New Zealand</td>\n",
       "      <td>BOP</td>\n",
       "      <td>Tauranga</td>\n",
       "      <td>Oceania Championships</td>\n",
       "    </tr>\n",
       "    <tr>\n",
       "      <th>3</th>\n",
       "      <td>Rikki Flanders</td>\n",
       "      <td>F</td>\n",
       "      <td>SBD</td>\n",
       "      <td>Single-ply</td>\n",
       "      <td>31.5</td>\n",
       "      <td>24-34</td>\n",
       "      <td>24-39</td>\n",
       "      <td>Open</td>\n",
       "      <td>56.42</td>\n",
       "      <td>60</td>\n",
       "      <td>...</td>\n",
       "      <td>Yes</td>\n",
       "      <td>Australia</td>\n",
       "      <td>NaN</td>\n",
       "      <td>OceaniaPF</td>\n",
       "      <td>IPF</td>\n",
       "      <td>2002-12-06</td>\n",
       "      <td>New Zealand</td>\n",
       "      <td>BOP</td>\n",
       "      <td>Tauranga</td>\n",
       "      <td>Oceania Championships</td>\n",
       "    </tr>\n",
       "    <tr>\n",
       "      <th>4</th>\n",
       "      <td>Julie Hallmond</td>\n",
       "      <td>F</td>\n",
       "      <td>SBD</td>\n",
       "      <td>Single-ply</td>\n",
       "      <td>NaN</td>\n",
       "      <td>NaN</td>\n",
       "      <td>50-59</td>\n",
       "      <td>Masters 2</td>\n",
       "      <td>58.20</td>\n",
       "      <td>60</td>\n",
       "      <td>...</td>\n",
       "      <td>Yes</td>\n",
       "      <td>New Zealand</td>\n",
       "      <td>NaN</td>\n",
       "      <td>OceaniaPF</td>\n",
       "      <td>IPF</td>\n",
       "      <td>2002-12-06</td>\n",
       "      <td>New Zealand</td>\n",
       "      <td>BOP</td>\n",
       "      <td>Tauranga</td>\n",
       "      <td>Oceania Championships</td>\n",
       "    </tr>\n",
       "  </tbody>\n",
       "</table>\n",
       "<p>5 rows × 41 columns</p>\n",
       "</div>"
      ],
      "text/plain": [
       "             Name Sex Event   Equipment   Age AgeClass BirthYearClass  \\\n",
       "0   Karen Thomson   F   SBD  Single-ply  39.5    35-39          40-49   \n",
       "1  Deborah Groves   F   SBD  Single-ply  30.5    24-34          24-39   \n",
       "2     Renee Orbon   F   SBD  Single-ply  31.5    24-34          24-39   \n",
       "3  Rikki Flanders   F   SBD  Single-ply  31.5    24-34          24-39   \n",
       "4  Julie Hallmond   F   SBD  Single-ply   NaN      NaN          50-59   \n",
       "\n",
       "    Division  BodyweightKg WeightClassKg  ...  Tested      Country  State  \\\n",
       "0  Masters 1         51.90            52  ...     Yes  New Zealand    NaN   \n",
       "1       Open         50.64            52  ...     Yes    Australia    NaN   \n",
       "2       Open         55.76            56  ...     Yes  New Zealand    NaN   \n",
       "3       Open         56.42            60  ...     Yes    Australia    NaN   \n",
       "4  Masters 2         58.20            60  ...     Yes  New Zealand    NaN   \n",
       "\n",
       "   Federation  ParentFederation        Date  MeetCountry  MeetState  MeetTown  \\\n",
       "0   OceaniaPF               IPF  2002-12-06  New Zealand        BOP  Tauranga   \n",
       "1   OceaniaPF               IPF  2002-12-06  New Zealand        BOP  Tauranga   \n",
       "2   OceaniaPF               IPF  2002-12-06  New Zealand        BOP  Tauranga   \n",
       "3   OceaniaPF               IPF  2002-12-06  New Zealand        BOP  Tauranga   \n",
       "4   OceaniaPF               IPF  2002-12-06  New Zealand        BOP  Tauranga   \n",
       "\n",
       "                MeetName  \n",
       "0  Oceania Championships  \n",
       "1  Oceania Championships  \n",
       "2  Oceania Championships  \n",
       "3  Oceania Championships  \n",
       "4  Oceania Championships  \n",
       "\n",
       "[5 rows x 41 columns]"
      ]
     },
     "execution_count": 11,
     "metadata": {},
     "output_type": "execute_result"
    }
   ],
   "source": [
    "df.head()"
   ]
  },
  {
   "cell_type": "markdown",
   "metadata": {},
   "source": [
    "This is a big dataset. For tractability and modeling, it would be ideal to decrease it's size. I will investigate the contents of each column to see what is extraneous."
   ]
  },
  {
   "cell_type": "code",
   "execution_count": 4,
   "metadata": {},
   "outputs": [
    {
     "name": "stdout",
     "output_type": "stream",
     "text": [
      "<class 'pandas.core.frame.DataFrame'>\n",
      "RangeIndex: 1188859 entries, 0 to 1188858\n",
      "Data columns (total 41 columns):\n",
      " #   Column            Non-Null Count    Dtype  \n",
      "---  ------            --------------    -----  \n",
      " 0   Name              1188859 non-null  object \n",
      " 1   Sex               1188859 non-null  object \n",
      " 2   Event             1188859 non-null  object \n",
      " 3   Equipment         1188859 non-null  object \n",
      " 4   Age               859909 non-null   float64\n",
      " 5   AgeClass          902112 non-null   object \n",
      " 6   BirthYearClass    916781 non-null   object \n",
      " 7   Division          1187914 non-null  object \n",
      " 8   BodyweightKg      1174873 non-null  float64\n",
      " 9   WeightClassKg     1176598 non-null  object \n",
      " 10  Squat1Kg          461065 non-null   float64\n",
      " 11  Squat2Kg          456422 non-null   float64\n",
      " 12  Squat3Kg          444892 non-null   float64\n",
      " 13  Squat4Kg          327 non-null      float64\n",
      " 14  Best3SquatKg      853454 non-null   float64\n",
      " 15  Bench1Kg          657138 non-null   float64\n",
      " 16  Bench2Kg          651008 non-null   float64\n",
      " 17  Bench3Kg          634141 non-null   float64\n",
      " 18  Bench4Kg          1254 non-null     float64\n",
      " 19  Best3BenchKg      1113679 non-null  float64\n",
      " 20  Deadlift1Kg       470345 non-null   float64\n",
      " 21  Deadlift2Kg       463051 non-null   float64\n",
      " 22  Deadlift3Kg       446645 non-null   float64\n",
      " 23  Deadlift4Kg       476 non-null      float64\n",
      " 24  Best3DeadliftKg   865566 non-null   float64\n",
      " 25  TotalKg           1121930 non-null  float64\n",
      " 26  Place             1188859 non-null  object \n",
      " 27  Dots              1109367 non-null  float64\n",
      " 28  Wilks             1109367 non-null  float64\n",
      " 29  Glossbrenner      1109367 non-null  float64\n",
      " 30  Goodlift          1080554 non-null  float64\n",
      " 31  Tested            1052017 non-null  object \n",
      " 32  Country           692075 non-null   object \n",
      " 33  State             215019 non-null   object \n",
      " 34  Federation        1188859 non-null  object \n",
      " 35  ParentFederation  1188859 non-null  object \n",
      " 36  Date              1188859 non-null  object \n",
      " 37  MeetCountry       1188859 non-null  object \n",
      " 38  MeetState         678407 non-null   object \n",
      " 39  MeetTown          990631 non-null   object \n",
      " 40  MeetName          1188859 non-null  object \n",
      "dtypes: float64(22), object(19)\n",
      "memory usage: 371.9+ MB\n"
     ]
    }
   ],
   "source": [
    "df.info()"
   ]
  },
  {
   "cell_type": "code",
   "execution_count": 8,
   "metadata": {},
   "outputs": [
    {
     "data": {
      "text/plain": [
       "array(['35-39', '24-34', nan, '45-49', '50-54', '40-44', '18-19', '13-15',\n",
       "       '16-17', '20-23', '55-59', '70-74', '60-64', '65-69', '75-79',\n",
       "       '5-12', '80-999'], dtype=object)"
      ]
     },
     "execution_count": 8,
     "metadata": {},
     "output_type": "execute_result"
    }
   ],
   "source": [
    "df['AgeClass'].unique()"
   ]
  },
  {
   "cell_type": "code",
   "execution_count": 9,
   "metadata": {},
   "outputs": [
    {
     "data": {
      "text/plain": [
       "array(['40-49', '24-39', '50-59', nan, '60-69', '14-18', '19-23',\n",
       "       '70-999'], dtype=object)"
      ]
     },
     "execution_count": 9,
     "metadata": {},
     "output_type": "execute_result"
    }
   ],
   "source": [
    "df['BirthYearClass'].unique()"
   ]
  },
  {
   "cell_type": "markdown",
   "metadata": {},
   "source": [
    "In IPF, Birth Year Class determines the age division one competes in. These correspond to Sub-junior, Junior, Open, Masters 1, 2, 3 classes. Age Class, however, does not align with these competition classes. The data dictionary says that Age Class is sometimes used by a federation without further providing age information. Information about age should be extracted from the Age Class column. I will use Age Class to impute information about age. Given the fact that the Age column is already an approximation (according to the data dictionary, for ages listed with a decimal), I believe that this imputation will not significantly affect the underlying distribution."
   ]
  },
  {
   "cell_type": "code",
   "execution_count": 13,
   "metadata": {},
   "outputs": [
    {
     "data": {
      "text/plain": [
       "array(['Masters 1', 'Open', 'Masters 2', ..., 'Middle', 'Super',\n",
       "       'SuperHeavy'], dtype=object)"
      ]
     },
     "execution_count": 13,
     "metadata": {},
     "output_type": "execute_result"
    }
   ],
   "source": [
    "df['Division'].unique()"
   ]
  },
  {
   "cell_type": "markdown",
   "metadata": {},
   "source": [
    "Division seems to contain information from age classes and weight classes with no standardization. The data dictionary reads that this is free-form text to provide context for a meet because some federations have been pre-configured in the database. Since this information is free-form and can be inferred from other columns, I will drop it."
   ]
  },
  {
   "cell_type": "code",
   "execution_count": 14,
   "metadata": {},
   "outputs": [
    {
     "data": {
      "text/plain": [
       "0    51.90\n",
       "1    50.64\n",
       "2    55.76\n",
       "3    56.42\n",
       "4    58.20\n",
       "Name: BodyweightKg, dtype: float64"
      ]
     },
     "execution_count": 14,
     "metadata": {},
     "output_type": "execute_result"
    }
   ],
   "source": [
    "df['BodyweightKg'].head()"
   ]
  },
  {
   "cell_type": "code",
   "execution_count": 15,
   "metadata": {},
   "outputs": [
    {
     "data": {
      "text/plain": [
       "array(['52', '56', '60', '67.5', '75', '82.5', '90', '90+', '100', '110',\n",
       "       '125', '125+', nan, '48', '57', '63', '72', '84', '84+', '59',\n",
       "       '66', '74', '83', '93', '105', '120', '120+', '47', '53', '44',\n",
       "       '69', '43', '76', '63+', '110+', '105+', '30', '35', '40', '60+',\n",
       "       '140+', '140', '82.5+', '75+', '57+', '72+', '69+', '93+', '76+',\n",
       "       '100+', '67.5+', '50', '65', '80', '80+', '83+', '74+', '52+',\n",
       "       '46', '49', '36', '57.1', '63.5', '69.8', '76.2', '88.9', '95.2',\n",
       "       '101.6+', '62.5', '70', '89', '95.5', '101.5', '115', '68', '55.5',\n",
       "       '58.5', '144.5', '144.5+', '145', '145+', '79.5', '90.5', '91+',\n",
       "       '90.7+', '90.7', '215', '54.4', '74.8', '83.9', '92.9', '92.9+',\n",
       "       '57.5', '68.5', '72.5', '77', '81.5', '87.5', '95', '92', '94',\n",
       "       '70.7', '78.4', '58.9', '81.6', '104.3', '117.9', '117.9+', '84.8',\n",
       "       '104.4', '82.4', '135.9', '65.3', '77.7', '84.1', '80.2', '103.4',\n",
       "       '98.1', '86.1', '98.8', '146.6', '73.7', '107', '86.2', '94.3',\n",
       "       '111.7', '91.4', '83.6', '97.2', '74.6', '123.3', '63.7', '112',\n",
       "       '75.8', '97', '129', '106', '88.2', '103.3', '108', '86.8', '99.5',\n",
       "       '103', '53.5', '57.6', '61.6', '68.9', '76.6', '91.6', '101.6',\n",
       "       '111.5', '126.5', '56+', '50.5', '36.2', '41.7', '47.1', '58.5+',\n",
       "       '59.8', '67.1', '82.1', '89.8', '99.7', '109.7', '124.7', '47.5',\n",
       "       '67.6', '90.5+', '77.1', '126', '127', '128', '130', '81.5+', '98',\n",
       "       '100.2', '103.2', '109', '108.2', '97.6', '122', '142.5', '118',\n",
       "       '78', '89.5', '83.3', '61.5', '85.5', '86', '108.5', '91', '96',\n",
       "       '42.1', '45', '123', '132', '148', '165', '181', '198', '220',\n",
       "       '242', '275', '95.2+', '61.2', '70.3', '72.5+', '63.5+', '136',\n",
       "       '10', '275+', '+', '87', '31', '33', '38', '39', '32', '54', '88',\n",
       "       '92.5', '47+', '55', '61', '67', '41', '107+', '61+', '66+', '73',\n",
       "       '79', '86+'], dtype=object)"
      ]
     },
     "execution_count": 15,
     "metadata": {},
     "output_type": "execute_result"
    }
   ],
   "source": [
    "df['WeightClassKg'].unique()"
   ]
  },
  {
   "cell_type": "markdown",
   "metadata": {},
   "source": [
    "IPF Weight classes have changed over time. Instead of using every single weight class present, I will use the bodyweight column to create a new weight class column that corresponds to weight classes at the time of performing this EDA. This will change the meanings of some records (if records are noted here), but it will put past lifts into current weight contexts. Simply, the ordinality of best attempts will change, but the cardinality remains the same."
   ]
  },
  {
   "cell_type": "markdown",
   "metadata": {},
   "source": [
    "All attempts are optionally recorded, so there are plenty of missing values across all of the columns. 4th attempts are only used in some cases where the weight was misloaded or for single lift events (usually bench). I will preserve all of that for now and move onto other rows that can be dealt with more easily."
   ]
  },
  {
   "cell_type": "code",
   "execution_count": 5,
   "metadata": {},
   "outputs": [
    {
     "data": {
      "text/plain": [
       "count     1188859\n",
       "unique        100\n",
       "top         USAPL\n",
       "freq       211453\n",
       "Name: Federation, dtype: object"
      ]
     },
     "execution_count": 5,
     "metadata": {},
     "output_type": "execute_result"
    }
   ],
   "source": [
    "df['Federation'].describe()"
   ]
  },
  {
   "cell_type": "code",
   "execution_count": 6,
   "metadata": {},
   "outputs": [
    {
     "data": {
      "text/plain": [
       "count     1188859\n",
       "unique          1\n",
       "top           IPF\n",
       "freq      1188859\n",
       "Name: ParentFederation, dtype: object"
      ]
     },
     "execution_count": 6,
     "metadata": {},
     "output_type": "execute_result"
    }
   ],
   "source": [
    "df['ParentFederation'].describe()"
   ]
  },
  {
   "cell_type": "markdown",
   "metadata": {},
   "source": [
    "As expected, all parent federation values are IPF since this is the IPF specific dataset. I will simply drop this column."
   ]
  },
  {
   "cell_type": "code",
   "execution_count": 17,
   "metadata": {},
   "outputs": [
    {
     "data": {
      "text/plain": [
       "array(['1', '2', '4', '3', 'G', 'DQ', '5', 'NS', '7', '6', '10', '9', '8',\n",
       "       '11', 'DD', '12', '13', '14', '15', '16', '17', '18', '19', '20',\n",
       "       '21', '22', '24', '23', '34', '25', '31', '28', '33', '27', '35',\n",
       "       '26', '36', '30', '32', '29', '37', '38', '39', '40', '41', '42',\n",
       "       '43', '44', '45', '46', '47', '48', '49', '50', '51', '52', '53',\n",
       "       '54', '55', '56', '57', '58', '59', '60', '61', '62', '63', '64',\n",
       "       '65', '66', '67', '68', '69', '70', '71', '72', '73', '74', '75',\n",
       "       '76', '77', '78', '79', '80', '81', '82', '83', '84', '85', '86',\n",
       "       '87', '88', '89', '90', '91', '92', '93', '94', '95', '96', '97',\n",
       "       '98', '99', '100', '101', '102', '103', '104', '105', '106', '107',\n",
       "       '108', '109', '110', '111', '112', '113', '114', '115', '116',\n",
       "       '117', '118', '119', '120', '195'], dtype=object)"
      ]
     },
     "execution_count": 17,
     "metadata": {},
     "output_type": "execute_result"
    }
   ],
   "source": [
    "df['Place'].unique()"
   ]
  },
  {
   "cell_type": "markdown",
   "metadata": {},
   "source": [
    "This column includes ordinal placing at a meet and categories like disqualifications and no-shows. "
   ]
  },
  {
   "cell_type": "markdown",
   "metadata": {},
   "source": [
    "In order to clean this further and perform faster analysis given the size of the CSV, I will drop Division and ParentFederation, fill blanks as null, and then import it into SQL."
   ]
  },
  {
   "cell_type": "code",
   "execution_count": 16,
   "metadata": {},
   "outputs": [],
   "source": [
    "df.drop(columns=['Division', 'ParentFederation'], inplace=True)\n",
    "df.fillna(value='NULL', inplace=True)"
   ]
  },
  {
   "cell_type": "code",
   "execution_count": 17,
   "metadata": {},
   "outputs": [
    {
     "data": {
      "text/html": [
       "<div>\n",
       "<style scoped>\n",
       "    .dataframe tbody tr th:only-of-type {\n",
       "        vertical-align: middle;\n",
       "    }\n",
       "\n",
       "    .dataframe tbody tr th {\n",
       "        vertical-align: top;\n",
       "    }\n",
       "\n",
       "    .dataframe thead th {\n",
       "        text-align: right;\n",
       "    }\n",
       "</style>\n",
       "<table border=\"1\" class=\"dataframe\">\n",
       "  <thead>\n",
       "    <tr style=\"text-align: right;\">\n",
       "      <th></th>\n",
       "      <th>Name</th>\n",
       "      <th>Sex</th>\n",
       "      <th>Event</th>\n",
       "      <th>Equipment</th>\n",
       "      <th>Age</th>\n",
       "      <th>AgeClass</th>\n",
       "      <th>BirthYearClass</th>\n",
       "      <th>BodyweightKg</th>\n",
       "      <th>WeightClassKg</th>\n",
       "      <th>Squat1Kg</th>\n",
       "      <th>...</th>\n",
       "      <th>Goodlift</th>\n",
       "      <th>Tested</th>\n",
       "      <th>Country</th>\n",
       "      <th>State</th>\n",
       "      <th>Federation</th>\n",
       "      <th>Date</th>\n",
       "      <th>MeetCountry</th>\n",
       "      <th>MeetState</th>\n",
       "      <th>MeetTown</th>\n",
       "      <th>MeetName</th>\n",
       "    </tr>\n",
       "  </thead>\n",
       "  <tbody>\n",
       "    <tr>\n",
       "      <th>0</th>\n",
       "      <td>Karen Thomson</td>\n",
       "      <td>F</td>\n",
       "      <td>SBD</td>\n",
       "      <td>Single-ply</td>\n",
       "      <td>39.5</td>\n",
       "      <td>35-39</td>\n",
       "      <td>40-49</td>\n",
       "      <td>51.9</td>\n",
       "      <td>52</td>\n",
       "      <td>105.0</td>\n",
       "      <td>...</td>\n",
       "      <td>63.73</td>\n",
       "      <td>Yes</td>\n",
       "      <td>New Zealand</td>\n",
       "      <td>NULL</td>\n",
       "      <td>OceaniaPF</td>\n",
       "      <td>2002-12-06</td>\n",
       "      <td>New Zealand</td>\n",
       "      <td>BOP</td>\n",
       "      <td>Tauranga</td>\n",
       "      <td>Oceania Championships</td>\n",
       "    </tr>\n",
       "    <tr>\n",
       "      <th>1</th>\n",
       "      <td>Deborah Groves</td>\n",
       "      <td>F</td>\n",
       "      <td>SBD</td>\n",
       "      <td>Single-ply</td>\n",
       "      <td>30.5</td>\n",
       "      <td>24-34</td>\n",
       "      <td>24-39</td>\n",
       "      <td>50.64</td>\n",
       "      <td>52</td>\n",
       "      <td>122.5</td>\n",
       "      <td>...</td>\n",
       "      <td>76.76</td>\n",
       "      <td>Yes</td>\n",
       "      <td>Australia</td>\n",
       "      <td>NULL</td>\n",
       "      <td>OceaniaPF</td>\n",
       "      <td>2002-12-06</td>\n",
       "      <td>New Zealand</td>\n",
       "      <td>BOP</td>\n",
       "      <td>Tauranga</td>\n",
       "      <td>Oceania Championships</td>\n",
       "    </tr>\n",
       "    <tr>\n",
       "      <th>2</th>\n",
       "      <td>Renee Orbon</td>\n",
       "      <td>F</td>\n",
       "      <td>SBD</td>\n",
       "      <td>Single-ply</td>\n",
       "      <td>31.5</td>\n",
       "      <td>24-34</td>\n",
       "      <td>24-39</td>\n",
       "      <td>55.76</td>\n",
       "      <td>56</td>\n",
       "      <td>105.5</td>\n",
       "      <td>...</td>\n",
       "      <td>66.09</td>\n",
       "      <td>Yes</td>\n",
       "      <td>New Zealand</td>\n",
       "      <td>NULL</td>\n",
       "      <td>OceaniaPF</td>\n",
       "      <td>2002-12-06</td>\n",
       "      <td>New Zealand</td>\n",
       "      <td>BOP</td>\n",
       "      <td>Tauranga</td>\n",
       "      <td>Oceania Championships</td>\n",
       "    </tr>\n",
       "    <tr>\n",
       "      <th>3</th>\n",
       "      <td>Rikki Flanders</td>\n",
       "      <td>F</td>\n",
       "      <td>SBD</td>\n",
       "      <td>Single-ply</td>\n",
       "      <td>31.5</td>\n",
       "      <td>24-34</td>\n",
       "      <td>24-39</td>\n",
       "      <td>56.42</td>\n",
       "      <td>60</td>\n",
       "      <td>110.0</td>\n",
       "      <td>...</td>\n",
       "      <td>61.74</td>\n",
       "      <td>Yes</td>\n",
       "      <td>Australia</td>\n",
       "      <td>NULL</td>\n",
       "      <td>OceaniaPF</td>\n",
       "      <td>2002-12-06</td>\n",
       "      <td>New Zealand</td>\n",
       "      <td>BOP</td>\n",
       "      <td>Tauranga</td>\n",
       "      <td>Oceania Championships</td>\n",
       "    </tr>\n",
       "    <tr>\n",
       "      <th>4</th>\n",
       "      <td>Julie Hallmond</td>\n",
       "      <td>F</td>\n",
       "      <td>SBD</td>\n",
       "      <td>Single-ply</td>\n",
       "      <td>NULL</td>\n",
       "      <td>NULL</td>\n",
       "      <td>50-59</td>\n",
       "      <td>58.2</td>\n",
       "      <td>60</td>\n",
       "      <td>105.0</td>\n",
       "      <td>...</td>\n",
       "      <td>59.79</td>\n",
       "      <td>Yes</td>\n",
       "      <td>New Zealand</td>\n",
       "      <td>NULL</td>\n",
       "      <td>OceaniaPF</td>\n",
       "      <td>2002-12-06</td>\n",
       "      <td>New Zealand</td>\n",
       "      <td>BOP</td>\n",
       "      <td>Tauranga</td>\n",
       "      <td>Oceania Championships</td>\n",
       "    </tr>\n",
       "  </tbody>\n",
       "</table>\n",
       "<p>5 rows × 39 columns</p>\n",
       "</div>"
      ],
      "text/plain": [
       "             Name Sex Event   Equipment   Age AgeClass BirthYearClass  \\\n",
       "0   Karen Thomson   F   SBD  Single-ply  39.5    35-39          40-49   \n",
       "1  Deborah Groves   F   SBD  Single-ply  30.5    24-34          24-39   \n",
       "2     Renee Orbon   F   SBD  Single-ply  31.5    24-34          24-39   \n",
       "3  Rikki Flanders   F   SBD  Single-ply  31.5    24-34          24-39   \n",
       "4  Julie Hallmond   F   SBD  Single-ply  NULL     NULL          50-59   \n",
       "\n",
       "  BodyweightKg WeightClassKg Squat1Kg  ... Goodlift Tested      Country State  \\\n",
       "0         51.9            52    105.0  ...    63.73    Yes  New Zealand  NULL   \n",
       "1        50.64            52    122.5  ...    76.76    Yes    Australia  NULL   \n",
       "2        55.76            56    105.5  ...    66.09    Yes  New Zealand  NULL   \n",
       "3        56.42            60    110.0  ...    61.74    Yes    Australia  NULL   \n",
       "4         58.2            60    105.0  ...    59.79    Yes  New Zealand  NULL   \n",
       "\n",
       "  Federation        Date  MeetCountry MeetState  MeetTown  \\\n",
       "0  OceaniaPF  2002-12-06  New Zealand       BOP  Tauranga   \n",
       "1  OceaniaPF  2002-12-06  New Zealand       BOP  Tauranga   \n",
       "2  OceaniaPF  2002-12-06  New Zealand       BOP  Tauranga   \n",
       "3  OceaniaPF  2002-12-06  New Zealand       BOP  Tauranga   \n",
       "4  OceaniaPF  2002-12-06  New Zealand       BOP  Tauranga   \n",
       "\n",
       "                MeetName  \n",
       "0  Oceania Championships  \n",
       "1  Oceania Championships  \n",
       "2  Oceania Championships  \n",
       "3  Oceania Championships  \n",
       "4  Oceania Championships  \n",
       "\n",
       "[5 rows x 39 columns]"
      ]
     },
     "execution_count": 17,
     "metadata": {},
     "output_type": "execute_result"
    }
   ],
   "source": [
    "df.head()"
   ]
  },
  {
   "cell_type": "code",
   "execution_count": 18,
   "metadata": {},
   "outputs": [],
   "source": [
    "df.to_csv('ipfdropped.csv', index=False)"
   ]
  },
  {
   "cell_type": "markdown",
   "metadata": {},
   "source": [
    "SQL gaveme an error and I want to investigate what is happening in rows 20 - 24 to see what the problem is."
   ]
  },
  {
   "cell_type": "code",
   "execution_count": 21,
   "metadata": {},
   "outputs": [
    {
     "data": {
      "text/plain": [
       "20      90\n",
       "21     90+\n",
       "22     90+\n",
       "23    82.5\n",
       "Name: WeightClassKg, dtype: object"
      ]
     },
     "execution_count": 21,
     "metadata": {},
     "output_type": "execute_result"
    }
   ],
   "source": [
    "df['WeightClassKg'].iloc[20:24]"
   ]
  },
  {
   "cell_type": "markdown",
   "metadata": {},
   "source": [
    "It turns out that the \"+\" symbol makes these numbers not a number. I will change the SQL schema for this column to be a varchar and modify it in SQL later."
   ]
  }
 ],
 "metadata": {
  "kernelspec": {
   "display_name": "base",
   "language": "python",
   "name": "python3"
  },
  "language_info": {
   "codemirror_mode": {
    "name": "ipython",
    "version": 3
   },
   "file_extension": ".py",
   "mimetype": "text/x-python",
   "name": "python",
   "nbconvert_exporter": "python",
   "pygments_lexer": "ipython3",
   "version": "3.10.9"
  },
  "orig_nbformat": 4
 },
 "nbformat": 4,
 "nbformat_minor": 2
}
